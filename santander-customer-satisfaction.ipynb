{
 "cells": [
  {
   "cell_type": "markdown",
   "metadata": {},
   "source": [
    "### <i>Filipe de Paula Oliveira</i>"
   ]
  },
  {
   "cell_type": "markdown",
   "metadata": {},
   "source": [
    "# <font color = red>Análise de Satisfação do Cliente do Santander</font>"
   ]
  },
  {
   "cell_type": "markdown",
   "metadata": {},
   "source": [
    "#### Projeto Prático 03 da Formação Cientista de Dados da Data Science Academy"
   ]
  },
  {
   "cell_type": "markdown",
   "metadata": {},
   "source": [
    "Problema: Identificar se um cliente está satisfeito ou insatisfeito com o relacionamento com o Santander. É interessante que isso ocorra cedo no relacionamento com o cliente, antes mesmo dele relatar algum problema, para que se possa agir antes que ele encerre sua conta.\n",
    "\n",
    "O dataset fornecido contem centenas de variáveis anônimizadas, e uma variável TARGET, em que: 1 = cliente insatisfeito e 0 =  cliente satisfeito"
   ]
  },
  {
   "cell_type": "markdown",
   "metadata": {},
   "source": [
    "## 0 Instalação de alguns pacotes <a name=\"0\"></a>"
   ]
  },
  {
   "cell_type": "code",
   "execution_count": 1,
   "metadata": {},
   "outputs": [],
   "source": [
    "# !pip install imblearn\n",
    "# !pip install xgboost"
   ]
  },
  {
   "cell_type": "markdown",
   "metadata": {},
   "source": [
    "## 1 Importação de pacotes"
   ]
  },
  {
   "cell_type": "markdown",
   "metadata": {},
   "source": [
    "### 1.1 Leitura e Manipulação de Dados"
   ]
  },
  {
   "cell_type": "code",
   "execution_count": 2,
   "metadata": {},
   "outputs": [],
   "source": [
    "import pandas as pd"
   ]
  },
  {
   "cell_type": "markdown",
   "metadata": {},
   "source": [
    "### 1.2 Análise Exploratória"
   ]
  },
  {
   "cell_type": "code",
   "execution_count": 3,
   "metadata": {},
   "outputs": [],
   "source": [
    "import matplotlib.pyplot as plt"
   ]
  },
  {
   "cell_type": "markdown",
   "metadata": {},
   "source": [
    "### 1.3 Pré-Processamento"
   ]
  },
  {
   "cell_type": "code",
   "execution_count": 4,
   "metadata": {},
   "outputs": [],
   "source": [
    "from sklearn.preprocessing import StandardScaler\n",
    "from imblearn.over_sampling import SMOTE\n",
    "from sklearn.decomposition import PCA\n",
    "from sklearn.model_selection import train_test_split"
   ]
  },
  {
   "cell_type": "markdown",
   "metadata": {},
   "source": [
    "### 1.4 Machine Learning"
   ]
  },
  {
   "cell_type": "code",
   "execution_count": 5,
   "metadata": {},
   "outputs": [],
   "source": [
    "from sklearn.linear_model import LogisticRegression\n",
    "from sklearn.naive_bayes import GaussianNB\n",
    "from sklearn.tree import DecisionTreeClassifier\n",
    "from sklearn.ensemble import RandomForestClassifier\n",
    "from xgboost import XGBClassifier\n",
    "\n",
    "from sklearn.model_selection import RandomizedSearchCV\n",
    "from sklearn.pipeline import Pipeline"
   ]
  },
  {
   "cell_type": "markdown",
   "metadata": {},
   "source": [
    "### 1.5 Métricas"
   ]
  },
  {
   "cell_type": "code",
   "execution_count": 6,
   "metadata": {},
   "outputs": [],
   "source": [
    "from sklearn.metrics import confusion_matrix\n",
    "from sklearn.metrics import classification_report\n",
    "from sklearn.metrics import accuracy_score\n",
    "from sklearn.metrics import roc_auc_score\n",
    "from sklearn.metrics import plot_roc_curve\n",
    "from xgboost import plot_importance"
   ]
  },
  {
   "cell_type": "markdown",
   "metadata": {},
   "source": [
    "### 1.6 Ignorando Warnings"
   ]
  },
  {
   "cell_type": "code",
   "execution_count": 7,
   "metadata": {},
   "outputs": [],
   "source": [
    "import warnings\n",
    "warnings.filterwarnings(\"ignore\")"
   ]
  },
  {
   "cell_type": "markdown",
   "metadata": {},
   "source": [
    "## 2 Leitura do dataset"
   ]
  },
  {
   "cell_type": "code",
   "execution_count": 8,
   "metadata": {},
   "outputs": [],
   "source": [
    "df_orig = pd.read_csv('santander-customer-satisfaction/train.csv')\n"
   ]
  },
  {
   "cell_type": "markdown",
   "metadata": {},
   "source": [
    "## 3 Análise Exploratória"
   ]
  },
  {
   "cell_type": "code",
   "execution_count": 9,
   "metadata": {},
   "outputs": [
    {
     "data": {
      "text/html": [
       "<div>\n",
       "<style scoped>\n",
       "    .dataframe tbody tr th:only-of-type {\n",
       "        vertical-align: middle;\n",
       "    }\n",
       "\n",
       "    .dataframe tbody tr th {\n",
       "        vertical-align: top;\n",
       "    }\n",
       "\n",
       "    .dataframe thead th {\n",
       "        text-align: right;\n",
       "    }\n",
       "</style>\n",
       "<table border=\"1\" class=\"dataframe\">\n",
       "  <thead>\n",
       "    <tr style=\"text-align: right;\">\n",
       "      <th></th>\n",
       "      <th>ID</th>\n",
       "      <th>var3</th>\n",
       "      <th>var15</th>\n",
       "      <th>imp_ent_var16_ult1</th>\n",
       "      <th>imp_op_var39_comer_ult1</th>\n",
       "      <th>imp_op_var39_comer_ult3</th>\n",
       "      <th>imp_op_var40_comer_ult1</th>\n",
       "      <th>imp_op_var40_comer_ult3</th>\n",
       "      <th>imp_op_var40_efect_ult1</th>\n",
       "      <th>imp_op_var40_efect_ult3</th>\n",
       "      <th>...</th>\n",
       "      <th>saldo_medio_var33_hace2</th>\n",
       "      <th>saldo_medio_var33_hace3</th>\n",
       "      <th>saldo_medio_var33_ult1</th>\n",
       "      <th>saldo_medio_var33_ult3</th>\n",
       "      <th>saldo_medio_var44_hace2</th>\n",
       "      <th>saldo_medio_var44_hace3</th>\n",
       "      <th>saldo_medio_var44_ult1</th>\n",
       "      <th>saldo_medio_var44_ult3</th>\n",
       "      <th>var38</th>\n",
       "      <th>TARGET</th>\n",
       "    </tr>\n",
       "  </thead>\n",
       "  <tbody>\n",
       "    <tr>\n",
       "      <th>0</th>\n",
       "      <td>1</td>\n",
       "      <td>2</td>\n",
       "      <td>23</td>\n",
       "      <td>0.0</td>\n",
       "      <td>0.0</td>\n",
       "      <td>0.0</td>\n",
       "      <td>0.0</td>\n",
       "      <td>0.0</td>\n",
       "      <td>0.0</td>\n",
       "      <td>0.0</td>\n",
       "      <td>...</td>\n",
       "      <td>0.0</td>\n",
       "      <td>0.0</td>\n",
       "      <td>0.0</td>\n",
       "      <td>0.0</td>\n",
       "      <td>0.0</td>\n",
       "      <td>0.0</td>\n",
       "      <td>0.0</td>\n",
       "      <td>0.0</td>\n",
       "      <td>39205.170000</td>\n",
       "      <td>0</td>\n",
       "    </tr>\n",
       "    <tr>\n",
       "      <th>1</th>\n",
       "      <td>3</td>\n",
       "      <td>2</td>\n",
       "      <td>34</td>\n",
       "      <td>0.0</td>\n",
       "      <td>0.0</td>\n",
       "      <td>0.0</td>\n",
       "      <td>0.0</td>\n",
       "      <td>0.0</td>\n",
       "      <td>0.0</td>\n",
       "      <td>0.0</td>\n",
       "      <td>...</td>\n",
       "      <td>0.0</td>\n",
       "      <td>0.0</td>\n",
       "      <td>0.0</td>\n",
       "      <td>0.0</td>\n",
       "      <td>0.0</td>\n",
       "      <td>0.0</td>\n",
       "      <td>0.0</td>\n",
       "      <td>0.0</td>\n",
       "      <td>49278.030000</td>\n",
       "      <td>0</td>\n",
       "    </tr>\n",
       "    <tr>\n",
       "      <th>2</th>\n",
       "      <td>4</td>\n",
       "      <td>2</td>\n",
       "      <td>23</td>\n",
       "      <td>0.0</td>\n",
       "      <td>0.0</td>\n",
       "      <td>0.0</td>\n",
       "      <td>0.0</td>\n",
       "      <td>0.0</td>\n",
       "      <td>0.0</td>\n",
       "      <td>0.0</td>\n",
       "      <td>...</td>\n",
       "      <td>0.0</td>\n",
       "      <td>0.0</td>\n",
       "      <td>0.0</td>\n",
       "      <td>0.0</td>\n",
       "      <td>0.0</td>\n",
       "      <td>0.0</td>\n",
       "      <td>0.0</td>\n",
       "      <td>0.0</td>\n",
       "      <td>67333.770000</td>\n",
       "      <td>0</td>\n",
       "    </tr>\n",
       "    <tr>\n",
       "      <th>3</th>\n",
       "      <td>8</td>\n",
       "      <td>2</td>\n",
       "      <td>37</td>\n",
       "      <td>0.0</td>\n",
       "      <td>195.0</td>\n",
       "      <td>195.0</td>\n",
       "      <td>0.0</td>\n",
       "      <td>0.0</td>\n",
       "      <td>0.0</td>\n",
       "      <td>0.0</td>\n",
       "      <td>...</td>\n",
       "      <td>0.0</td>\n",
       "      <td>0.0</td>\n",
       "      <td>0.0</td>\n",
       "      <td>0.0</td>\n",
       "      <td>0.0</td>\n",
       "      <td>0.0</td>\n",
       "      <td>0.0</td>\n",
       "      <td>0.0</td>\n",
       "      <td>64007.970000</td>\n",
       "      <td>0</td>\n",
       "    </tr>\n",
       "    <tr>\n",
       "      <th>4</th>\n",
       "      <td>10</td>\n",
       "      <td>2</td>\n",
       "      <td>39</td>\n",
       "      <td>0.0</td>\n",
       "      <td>0.0</td>\n",
       "      <td>0.0</td>\n",
       "      <td>0.0</td>\n",
       "      <td>0.0</td>\n",
       "      <td>0.0</td>\n",
       "      <td>0.0</td>\n",
       "      <td>...</td>\n",
       "      <td>0.0</td>\n",
       "      <td>0.0</td>\n",
       "      <td>0.0</td>\n",
       "      <td>0.0</td>\n",
       "      <td>0.0</td>\n",
       "      <td>0.0</td>\n",
       "      <td>0.0</td>\n",
       "      <td>0.0</td>\n",
       "      <td>117310.979016</td>\n",
       "      <td>0</td>\n",
       "    </tr>\n",
       "  </tbody>\n",
       "</table>\n",
       "<p>5 rows × 371 columns</p>\n",
       "</div>"
      ],
      "text/plain": [
       "   ID  var3  var15  imp_ent_var16_ult1  imp_op_var39_comer_ult1  \\\n",
       "0   1     2     23                 0.0                      0.0   \n",
       "1   3     2     34                 0.0                      0.0   \n",
       "2   4     2     23                 0.0                      0.0   \n",
       "3   8     2     37                 0.0                    195.0   \n",
       "4  10     2     39                 0.0                      0.0   \n",
       "\n",
       "   imp_op_var39_comer_ult3  imp_op_var40_comer_ult1  imp_op_var40_comer_ult3  \\\n",
       "0                      0.0                      0.0                      0.0   \n",
       "1                      0.0                      0.0                      0.0   \n",
       "2                      0.0                      0.0                      0.0   \n",
       "3                    195.0                      0.0                      0.0   \n",
       "4                      0.0                      0.0                      0.0   \n",
       "\n",
       "   imp_op_var40_efect_ult1  imp_op_var40_efect_ult3  ...  \\\n",
       "0                      0.0                      0.0  ...   \n",
       "1                      0.0                      0.0  ...   \n",
       "2                      0.0                      0.0  ...   \n",
       "3                      0.0                      0.0  ...   \n",
       "4                      0.0                      0.0  ...   \n",
       "\n",
       "   saldo_medio_var33_hace2  saldo_medio_var33_hace3  saldo_medio_var33_ult1  \\\n",
       "0                      0.0                      0.0                     0.0   \n",
       "1                      0.0                      0.0                     0.0   \n",
       "2                      0.0                      0.0                     0.0   \n",
       "3                      0.0                      0.0                     0.0   \n",
       "4                      0.0                      0.0                     0.0   \n",
       "\n",
       "   saldo_medio_var33_ult3  saldo_medio_var44_hace2  saldo_medio_var44_hace3  \\\n",
       "0                     0.0                      0.0                      0.0   \n",
       "1                     0.0                      0.0                      0.0   \n",
       "2                     0.0                      0.0                      0.0   \n",
       "3                     0.0                      0.0                      0.0   \n",
       "4                     0.0                      0.0                      0.0   \n",
       "\n",
       "   saldo_medio_var44_ult1  saldo_medio_var44_ult3          var38  TARGET  \n",
       "0                     0.0                     0.0   39205.170000       0  \n",
       "1                     0.0                     0.0   49278.030000       0  \n",
       "2                     0.0                     0.0   67333.770000       0  \n",
       "3                     0.0                     0.0   64007.970000       0  \n",
       "4                     0.0                     0.0  117310.979016       0  \n",
       "\n",
       "[5 rows x 371 columns]"
      ]
     },
     "execution_count": 9,
     "metadata": {},
     "output_type": "execute_result"
    }
   ],
   "source": [
    "df_orig.head()"
   ]
  },
  {
   "cell_type": "code",
   "execution_count": 10,
   "metadata": {},
   "outputs": [
    {
     "data": {
      "text/plain": [
       "(76020, 371)"
      ]
     },
     "execution_count": 10,
     "metadata": {},
     "output_type": "execute_result"
    }
   ],
   "source": [
    "df_orig.shape"
   ]
  },
  {
   "cell_type": "markdown",
   "metadata": {},
   "source": [
    "371 colunas! Dificulta bastante a análise gráfica."
   ]
  },
  {
   "cell_type": "markdown",
   "metadata": {},
   "source": [
    "### 3.1 Distribuição da variável target"
   ]
  },
  {
   "cell_type": "code",
   "execution_count": 11,
   "metadata": {
    "scrolled": true
   },
   "outputs": [
    {
     "data": {
      "text/plain": [
       "0    73012\n",
       "1     3008\n",
       "Name: TARGET, dtype: int64"
      ]
     },
     "execution_count": 11,
     "metadata": {},
     "output_type": "execute_result"
    }
   ],
   "source": [
    "df_orig['TARGET'].value_counts()"
   ]
  },
  {
   "cell_type": "markdown",
   "metadata": {},
   "source": [
    "##### O dataset é bem desbalanceado (~3% da classe 1 e ~97% da classe 0)"
   ]
  },
  {
   "cell_type": "markdown",
   "metadata": {},
   "source": [
    "### 3.2 Verificando se há valores NA"
   ]
  },
  {
   "cell_type": "code",
   "execution_count": 12,
   "metadata": {
    "scrolled": false
   },
   "outputs": [
    {
     "data": {
      "text/plain": [
       "False"
      ]
     },
     "execution_count": 12,
     "metadata": {},
     "output_type": "execute_result"
    }
   ],
   "source": [
    "df_orig.isnull().values.any()"
   ]
  },
  {
   "cell_type": "markdown",
   "metadata": {},
   "source": [
    "## 4 Pré Processamento"
   ]
  },
  {
   "cell_type": "markdown",
   "metadata": {},
   "source": [
    "### 4.1 Padronização"
   ]
  },
  {
   "cell_type": "code",
   "execution_count": 13,
   "metadata": {
    "scrolled": true
   },
   "outputs": [
    {
     "data": {
      "text/html": [
       "<div>\n",
       "<style scoped>\n",
       "    .dataframe tbody tr th:only-of-type {\n",
       "        vertical-align: middle;\n",
       "    }\n",
       "\n",
       "    .dataframe tbody tr th {\n",
       "        vertical-align: top;\n",
       "    }\n",
       "\n",
       "    .dataframe thead th {\n",
       "        text-align: right;\n",
       "    }\n",
       "</style>\n",
       "<table border=\"1\" class=\"dataframe\">\n",
       "  <thead>\n",
       "    <tr style=\"text-align: right;\">\n",
       "      <th></th>\n",
       "      <th>0</th>\n",
       "      <th>1</th>\n",
       "      <th>2</th>\n",
       "      <th>3</th>\n",
       "      <th>4</th>\n",
       "      <th>5</th>\n",
       "      <th>6</th>\n",
       "      <th>7</th>\n",
       "      <th>8</th>\n",
       "      <th>9</th>\n",
       "      <th>...</th>\n",
       "      <th>361</th>\n",
       "      <th>362</th>\n",
       "      <th>363</th>\n",
       "      <th>364</th>\n",
       "      <th>365</th>\n",
       "      <th>366</th>\n",
       "      <th>367</th>\n",
       "      <th>368</th>\n",
       "      <th>369</th>\n",
       "      <th>TARGET</th>\n",
       "    </tr>\n",
       "  </thead>\n",
       "  <tbody>\n",
       "    <tr>\n",
       "      <th>0</th>\n",
       "      <td>-1.735043</td>\n",
       "      <td>0.039074</td>\n",
       "      <td>-0.788249</td>\n",
       "      <td>-0.053388</td>\n",
       "      <td>-0.213263</td>\n",
       "      <td>-0.218813</td>\n",
       "      <td>-0.038206</td>\n",
       "      <td>-0.042103</td>\n",
       "      <td>-0.013493</td>\n",
       "      <td>-0.015538</td>\n",
       "      <td>...</td>\n",
       "      <td>-0.017408</td>\n",
       "      <td>-0.011979</td>\n",
       "      <td>-0.015597</td>\n",
       "      <td>-0.016314</td>\n",
       "      <td>-0.01565</td>\n",
       "      <td>-0.012576</td>\n",
       "      <td>-0.018817</td>\n",
       "      <td>-0.019847</td>\n",
       "      <td>-0.427183</td>\n",
       "      <td>0</td>\n",
       "    </tr>\n",
       "    <tr>\n",
       "      <th>1</th>\n",
       "      <td>-1.734997</td>\n",
       "      <td>0.039074</td>\n",
       "      <td>0.060753</td>\n",
       "      <td>-0.053388</td>\n",
       "      <td>-0.213263</td>\n",
       "      <td>-0.218813</td>\n",
       "      <td>-0.038206</td>\n",
       "      <td>-0.042103</td>\n",
       "      <td>-0.013493</td>\n",
       "      <td>-0.015538</td>\n",
       "      <td>...</td>\n",
       "      <td>-0.017408</td>\n",
       "      <td>-0.011979</td>\n",
       "      <td>-0.015597</td>\n",
       "      <td>-0.016314</td>\n",
       "      <td>-0.01565</td>\n",
       "      <td>-0.012576</td>\n",
       "      <td>-0.018817</td>\n",
       "      <td>-0.019847</td>\n",
       "      <td>-0.372038</td>\n",
       "      <td>0</td>\n",
       "    </tr>\n",
       "    <tr>\n",
       "      <th>2</th>\n",
       "      <td>-1.734974</td>\n",
       "      <td>0.039074</td>\n",
       "      <td>-0.788249</td>\n",
       "      <td>-0.053388</td>\n",
       "      <td>-0.213263</td>\n",
       "      <td>-0.218813</td>\n",
       "      <td>-0.038206</td>\n",
       "      <td>-0.042103</td>\n",
       "      <td>-0.013493</td>\n",
       "      <td>-0.015538</td>\n",
       "      <td>...</td>\n",
       "      <td>-0.017408</td>\n",
       "      <td>-0.011979</td>\n",
       "      <td>-0.015597</td>\n",
       "      <td>-0.016314</td>\n",
       "      <td>-0.01565</td>\n",
       "      <td>-0.012576</td>\n",
       "      <td>-0.018817</td>\n",
       "      <td>-0.019847</td>\n",
       "      <td>-0.273191</td>\n",
       "      <td>0</td>\n",
       "    </tr>\n",
       "    <tr>\n",
       "      <th>3</th>\n",
       "      <td>-1.734883</td>\n",
       "      <td>0.039074</td>\n",
       "      <td>0.292298</td>\n",
       "      <td>-0.053388</td>\n",
       "      <td>0.361427</td>\n",
       "      <td>0.138158</td>\n",
       "      <td>-0.038206</td>\n",
       "      <td>-0.042103</td>\n",
       "      <td>-0.013493</td>\n",
       "      <td>-0.015538</td>\n",
       "      <td>...</td>\n",
       "      <td>-0.017408</td>\n",
       "      <td>-0.011979</td>\n",
       "      <td>-0.015597</td>\n",
       "      <td>-0.016314</td>\n",
       "      <td>-0.01565</td>\n",
       "      <td>-0.012576</td>\n",
       "      <td>-0.018817</td>\n",
       "      <td>-0.019847</td>\n",
       "      <td>-0.291398</td>\n",
       "      <td>0</td>\n",
       "    </tr>\n",
       "    <tr>\n",
       "      <th>4</th>\n",
       "      <td>-1.734837</td>\n",
       "      <td>0.039074</td>\n",
       "      <td>0.446662</td>\n",
       "      <td>-0.053388</td>\n",
       "      <td>-0.213263</td>\n",
       "      <td>-0.218813</td>\n",
       "      <td>-0.038206</td>\n",
       "      <td>-0.042103</td>\n",
       "      <td>-0.013493</td>\n",
       "      <td>-0.015538</td>\n",
       "      <td>...</td>\n",
       "      <td>-0.017408</td>\n",
       "      <td>-0.011979</td>\n",
       "      <td>-0.015597</td>\n",
       "      <td>-0.016314</td>\n",
       "      <td>-0.01565</td>\n",
       "      <td>-0.012576</td>\n",
       "      <td>-0.018817</td>\n",
       "      <td>-0.019847</td>\n",
       "      <td>0.000412</td>\n",
       "      <td>0</td>\n",
       "    </tr>\n",
       "  </tbody>\n",
       "</table>\n",
       "<p>5 rows × 371 columns</p>\n",
       "</div>"
      ],
      "text/plain": [
       "          0         1         2         3         4         5         6  \\\n",
       "0 -1.735043  0.039074 -0.788249 -0.053388 -0.213263 -0.218813 -0.038206   \n",
       "1 -1.734997  0.039074  0.060753 -0.053388 -0.213263 -0.218813 -0.038206   \n",
       "2 -1.734974  0.039074 -0.788249 -0.053388 -0.213263 -0.218813 -0.038206   \n",
       "3 -1.734883  0.039074  0.292298 -0.053388  0.361427  0.138158 -0.038206   \n",
       "4 -1.734837  0.039074  0.446662 -0.053388 -0.213263 -0.218813 -0.038206   \n",
       "\n",
       "          7         8         9  ...       361       362       363       364  \\\n",
       "0 -0.042103 -0.013493 -0.015538  ... -0.017408 -0.011979 -0.015597 -0.016314   \n",
       "1 -0.042103 -0.013493 -0.015538  ... -0.017408 -0.011979 -0.015597 -0.016314   \n",
       "2 -0.042103 -0.013493 -0.015538  ... -0.017408 -0.011979 -0.015597 -0.016314   \n",
       "3 -0.042103 -0.013493 -0.015538  ... -0.017408 -0.011979 -0.015597 -0.016314   \n",
       "4 -0.042103 -0.013493 -0.015538  ... -0.017408 -0.011979 -0.015597 -0.016314   \n",
       "\n",
       "       365       366       367       368       369  TARGET  \n",
       "0 -0.01565 -0.012576 -0.018817 -0.019847 -0.427183       0  \n",
       "1 -0.01565 -0.012576 -0.018817 -0.019847 -0.372038       0  \n",
       "2 -0.01565 -0.012576 -0.018817 -0.019847 -0.273191       0  \n",
       "3 -0.01565 -0.012576 -0.018817 -0.019847 -0.291398       0  \n",
       "4 -0.01565 -0.012576 -0.018817 -0.019847  0.000412       0  \n",
       "\n",
       "[5 rows x 371 columns]"
      ]
     },
     "execution_count": 13,
     "metadata": {},
     "output_type": "execute_result"
    }
   ],
   "source": [
    "scaler = StandardScaler()\n",
    "scaler.fit(df_orig.values[:,0:len(df_orig.columns)-1])\n",
    "\n",
    "rescaled_values = scaler.transform(df_orig.values[:,0:len(df_orig.columns)-1])\n",
    "df_padr = pd.DataFrame(rescaled_values)\n",
    "df_padr['TARGET'] = df_orig['TARGET']\n",
    "df_padr.head()"
   ]
  },
  {
   "cell_type": "markdown",
   "metadata": {},
   "source": [
    "### 4.2 Resampling"
   ]
  },
  {
   "cell_type": "code",
   "execution_count": 14,
   "metadata": {},
   "outputs": [],
   "source": [
    "seed = 1234\n",
    "X_treino_prep, X_teste_prep, Y_treino_prep, Y_teste_prep = train_test_split(df_padr.values[:,0:len(df_padr.columns)-1],\n",
    "                                                                            df_padr.values[:,len(df_padr.columns)-1],\n",
    "                                                                            test_size = 0.3,\n",
    "                                                                            random_state = seed)"
   ]
  },
  {
   "cell_type": "markdown",
   "metadata": {},
   "source": [
    "### 4.3 Balanceamento de classes (SMOTE)"
   ]
  },
  {
   "cell_type": "code",
   "execution_count": 15,
   "metadata": {},
   "outputs": [],
   "source": [
    "SM = SMOTE(random_state = seed, n_jobs = -1)\n",
    "X_treino_balanc, Y_treino_balanc = SM.fit_resample(X_treino_prep, Y_treino_prep)\n",
    "X_teste_balanc, Y_teste_balanc = SM.fit_resample(X_teste_prep, Y_teste_prep)"
   ]
  },
  {
   "cell_type": "markdown",
   "metadata": {},
   "source": [
    "### 4.4 Principal Component Analysis (PCA)"
   ]
  },
  {
   "cell_type": "code",
   "execution_count": 16,
   "metadata": {
    "scrolled": true
   },
   "outputs": [],
   "source": [
    "pca = PCA(0.95)\n",
    "pca_fit = pca.fit(X_treino_balanc)"
   ]
  },
  {
   "cell_type": "markdown",
   "metadata": {},
   "source": [
    "#### 4.4.1 Porcentagem da variância presente nos componentes"
   ]
  },
  {
   "cell_type": "code",
   "execution_count": 17,
   "metadata": {},
   "outputs": [
    {
     "name": "stdout",
     "output_type": "stream",
     "text": [
      "0.9504639167432769\n"
     ]
    }
   ],
   "source": [
    "print(pca_fit.explained_variance_ratio_.sum())"
   ]
  },
  {
   "cell_type": "markdown",
   "metadata": {},
   "source": [
    "#### 4.4.2 Dados de treino com o PCA"
   ]
  },
  {
   "cell_type": "code",
   "execution_count": 18,
   "metadata": {},
   "outputs": [
    {
     "data": {
      "text/plain": [
       "(102222, 93)"
      ]
     },
     "execution_count": 18,
     "metadata": {},
     "output_type": "execute_result"
    }
   ],
   "source": [
    "pca_values_train = pca_fit.transform(X_treino_balanc)\n",
    "df_train = pd.DataFrame(pca_values_train)\n",
    "df_train['TARGET'] = Y_treino_balanc\n",
    "df_train.shape"
   ]
  },
  {
   "cell_type": "markdown",
   "metadata": {},
   "source": [
    "#### 4.4.3 Dados de teste com o PCA"
   ]
  },
  {
   "cell_type": "code",
   "execution_count": 19,
   "metadata": {
    "scrolled": true
   },
   "outputs": [
    {
     "data": {
      "text/plain": [
       "(43802, 93)"
      ]
     },
     "execution_count": 19,
     "metadata": {},
     "output_type": "execute_result"
    }
   ],
   "source": [
    "pca_values_test = pca_fit.transform(X_teste_balanc)\n",
    "df_test = pd.DataFrame(pca_values_test)\n",
    "df_test['TARGET'] = Y_teste_balanc\n",
    "df_test.shape"
   ]
  },
  {
   "cell_type": "markdown",
   "metadata": {},
   "source": [
    "### 4.5 X e Y split"
   ]
  },
  {
   "cell_type": "code",
   "execution_count": 20,
   "metadata": {},
   "outputs": [],
   "source": [
    "df_train_X = df_train.values[:,0:len(df_train.columns)-1]\n",
    "df_train_Y = df_train.values[:,len(df_train.columns)-1]\n",
    "df_test_X = df_test.values[:,0:len(df_test.columns)-1]\n",
    "df_test_Y = df_test.values[:,len(df_test.columns)-1]"
   ]
  },
  {
   "cell_type": "markdown",
   "metadata": {},
   "source": [
    "## 5 Machine Learning"
   ]
  },
  {
   "cell_type": "markdown",
   "metadata": {},
   "source": [
    "Nessa seção serão rodados os algoritmos um por um. Na seção 6 há um Pipeline automatizando para todos os algoritmos."
   ]
  },
  {
   "cell_type": "markdown",
   "metadata": {},
   "source": [
    "### 5.1 Regressão Logística"
   ]
  },
  {
   "cell_type": "code",
   "execution_count": 21,
   "metadata": {},
   "outputs": [
    {
     "data": {
      "text/plain": [
       "LogisticRegression(random_state=1234)"
      ]
     },
     "execution_count": 21,
     "metadata": {},
     "output_type": "execute_result"
    }
   ],
   "source": [
    "modelo_lr = LogisticRegression(random_state = seed)\n",
    "modelo_lr.fit(df_train_X, df_train_Y)"
   ]
  },
  {
   "cell_type": "markdown",
   "metadata": {},
   "source": [
    "#### 5.1.1 Resultados Regressão Logística"
   ]
  },
  {
   "cell_type": "code",
   "execution_count": 22,
   "metadata": {},
   "outputs": [
    {
     "name": "stdout",
     "output_type": "stream",
     "text": [
      "Confusion Matrix nos Dados de Treino\n",
      "[[35851 12454]\n",
      " [15260 38657]]\n",
      "              precision    recall  f1-score   support\n",
      "\n",
      "         0.0       0.74      0.70      0.72     51111\n",
      "         1.0       0.72      0.76      0.74     51111\n",
      "\n",
      "    accuracy                           0.73    102222\n",
      "   macro avg       0.73      0.73      0.73    102222\n",
      "weighted avg       0.73      0.73      0.73    102222\n",
      "\n",
      "O modelo teve 72.89% de precisão e 80.94% de AUC nos dados de treino.\n"
     ]
    }
   ],
   "source": [
    "previsoes_lr_train = modelo_lr.predict(df_train_X)\n",
    "print(\"Confusion Matrix nos Dados de Treino\")\n",
    "print(confusion_matrix(previsoes_lr_train, df_train_Y))\n",
    "print(classification_report(df_train_Y, previsoes_lr_train))\n",
    "acc_lr_train = accuracy_score(df_train_Y, previsoes_lr_train)\n",
    "auc_lr_train = roc_auc_score(df_train_Y, modelo_lr.predict_proba(df_train_X)[:,1])\n",
    "print('O modelo teve {:2.2%} de precisão e {:2.2%} de AUC nos dados de treino.'.format(acc_lr_train, auc_lr_train))"
   ]
  },
  {
   "cell_type": "code",
   "execution_count": 23,
   "metadata": {
    "scrolled": true
   },
   "outputs": [
    {
     "name": "stdout",
     "output_type": "stream",
     "text": [
      "Confusion Matrix nos Dados de Teste\n",
      "[[15341  5826]\n",
      " [ 6560 16075]]\n",
      "              precision    recall  f1-score   support\n",
      "\n",
      "         0.0       0.72      0.70      0.71     21901\n",
      "         1.0       0.71      0.73      0.72     21901\n",
      "\n",
      "    accuracy                           0.72     43802\n",
      "   macro avg       0.72      0.72      0.72     43802\n",
      "weighted avg       0.72      0.72      0.72     43802\n",
      "\n",
      "O modelo teve 71.72% de precisão e 79.19% de AUC nos dados de teste.\n"
     ]
    }
   ],
   "source": [
    "previsoes_lr_test = modelo_lr.predict(df_test_X)\n",
    "print(\"Confusion Matrix nos Dados de Teste\")\n",
    "print(confusion_matrix(previsoes_lr_test, df_test_Y)) \n",
    "print(classification_report(df_test_Y, previsoes_lr_test))\n",
    "acc_lr_test = accuracy_score(df_test_Y, previsoes_lr_test)\n",
    "auc_lr_test = roc_auc_score(df_test_Y, modelo_lr.predict_proba(df_test_X)[:,1])\n",
    "print('O modelo teve {:2.2%} de precisão e {:2.2%} de AUC nos dados de teste.'.format(acc_lr_test, auc_lr_test))"
   ]
  },
  {
   "cell_type": "markdown",
   "metadata": {},
   "source": [
    "## 5.2 Naive Bayes"
   ]
  },
  {
   "cell_type": "code",
   "execution_count": 24,
   "metadata": {
    "scrolled": false
   },
   "outputs": [
    {
     "data": {
      "text/plain": [
       "GaussianNB()"
      ]
     },
     "execution_count": 24,
     "metadata": {},
     "output_type": "execute_result"
    }
   ],
   "source": [
    "modelo_nb = GaussianNB()\n",
    "modelo_nb.fit(df_train_X, df_train_Y)"
   ]
  },
  {
   "cell_type": "markdown",
   "metadata": {},
   "source": [
    "#### 5.2.1 Resultados Naive Bayes"
   ]
  },
  {
   "cell_type": "code",
   "execution_count": 25,
   "metadata": {},
   "outputs": [
    {
     "name": "stdout",
     "output_type": "stream",
     "text": [
      "Confusion Matrix nos Dados de Treino\n",
      "[[ 7721  3422]\n",
      " [43390 47689]]\n",
      "              precision    recall  f1-score   support\n",
      "\n",
      "         0.0       0.69      0.15      0.25     51111\n",
      "         1.0       0.52      0.93      0.67     51111\n",
      "\n",
      "    accuracy                           0.54    102222\n",
      "   macro avg       0.61      0.54      0.46    102222\n",
      "weighted avg       0.61      0.54      0.46    102222\n",
      "\n",
      "O modelo teve 54.21% de precisão e 54.38% de AUC nos dados de treino.\n"
     ]
    }
   ],
   "source": [
    "previsoes_nb_train = modelo_nb.predict(df_train_X)\n",
    "print(\"Confusion Matrix nos Dados de Treino\") \n",
    "print(confusion_matrix(previsoes_nb_train, df_train_Y))\n",
    "print(classification_report(df_train_Y, previsoes_nb_train))\n",
    "acc_nb_train = accuracy_score(df_train_Y, previsoes_nb_train)\n",
    "auc_nb_train = roc_auc_score(df_train_Y, modelo_nb.predict_proba(df_train_X)[:,1])\n",
    "print('O modelo teve {:2.2%} de precisão e {:2.2%} de AUC nos dados de treino.'.format(acc_nb_train, auc_nb_train))"
   ]
  },
  {
   "cell_type": "code",
   "execution_count": 26,
   "metadata": {},
   "outputs": [
    {
     "name": "stdout",
     "output_type": "stream",
     "text": [
      "Confusion Matrix nos Dados de Teste\n",
      "[[ 3288  1591]\n",
      " [18613 20310]]\n",
      "              precision    recall  f1-score   support\n",
      "\n",
      "         0.0       0.67      0.15      0.25     21901\n",
      "         1.0       0.52      0.93      0.67     21901\n",
      "\n",
      "    accuracy                           0.54     43802\n",
      "   macro avg       0.60      0.54      0.46     43802\n",
      "weighted avg       0.60      0.54      0.46     43802\n",
      "\n",
      "O modelo teve 53.87% de precisão e 54.18% de AUC nos dados de teste.\n"
     ]
    }
   ],
   "source": [
    "previsoes_nb_test = modelo_nb.predict(df_test_X)\n",
    "print(\"Confusion Matrix nos Dados de Teste\")\n",
    "print(confusion_matrix(previsoes_nb_test, df_test_Y))\n",
    "print(classification_report(df_test_Y, previsoes_nb_test))\n",
    "acc_nb_test = accuracy_score(df_test_Y, previsoes_nb_test)\n",
    "auc_nb_test = roc_auc_score(df_test_Y, modelo_nb.predict_proba(df_test_X)[:,1])\n",
    "print('O modelo teve {:2.2%} de precisão e {:2.2%} de AUC nos dados de teste.'.format(acc_nb_test, auc_nb_test))"
   ]
  },
  {
   "cell_type": "markdown",
   "metadata": {},
   "source": [
    "### 5.3 CART"
   ]
  },
  {
   "cell_type": "code",
   "execution_count": 27,
   "metadata": {},
   "outputs": [
    {
     "data": {
      "text/plain": [
       "DecisionTreeClassifier(max_depth=4, random_state=1234)"
      ]
     },
     "execution_count": 27,
     "metadata": {},
     "output_type": "execute_result"
    }
   ],
   "source": [
    "modelo_cart = DecisionTreeClassifier(max_depth=4, random_state = seed)\n",
    "modelo_cart.fit(df_train_X, df_train_Y)"
   ]
  },
  {
   "cell_type": "markdown",
   "metadata": {},
   "source": [
    "#### 5.3.1 Resultados CART"
   ]
  },
  {
   "cell_type": "code",
   "execution_count": 28,
   "metadata": {},
   "outputs": [
    {
     "name": "stdout",
     "output_type": "stream",
     "text": [
      "Confusion Matrix nos Dados de Treino\n",
      "[[37403 13321]\n",
      " [13708 37790]]\n",
      "              precision    recall  f1-score   support\n",
      "\n",
      "         0.0       0.74      0.73      0.73     51111\n",
      "         1.0       0.73      0.74      0.74     51111\n",
      "\n",
      "    accuracy                           0.74    102222\n",
      "   macro avg       0.74      0.74      0.74    102222\n",
      "weighted avg       0.74      0.74      0.74    102222\n",
      "\n",
      "O modelo teve 73.56% de precisão e 80.93% de AUC nos dados de treino.\n"
     ]
    }
   ],
   "source": [
    "previsoes_cart_train = modelo_cart.predict(df_train_X)\n",
    "print(\"Confusion Matrix nos Dados de Treino\")\n",
    "print(confusion_matrix(previsoes_cart_train, df_train_Y))\n",
    "print(classification_report(df_train_Y, previsoes_cart_train))\n",
    "acc_cart_train = accuracy_score(df_train_Y, previsoes_cart_train)\n",
    "auc_cart_train = roc_auc_score(df_train_Y, modelo_cart.predict_proba(df_train_X)[:,1])\n",
    "print('O modelo teve {:2.2%} de precisão e {:2.2%} de AUC nos dados de treino.'.format(acc_cart_train, auc_cart_train))"
   ]
  },
  {
   "cell_type": "code",
   "execution_count": 29,
   "metadata": {},
   "outputs": [
    {
     "name": "stdout",
     "output_type": "stream",
     "text": [
      "Confusion Matrix nos Dados de Teste\n",
      "[[16000  6446]\n",
      " [ 5901 15455]]\n",
      "              precision    recall  f1-score   support\n",
      "\n",
      "         0.0       0.71      0.73      0.72     21901\n",
      "         1.0       0.72      0.71      0.71     21901\n",
      "\n",
      "    accuracy                           0.72     43802\n",
      "   macro avg       0.72      0.72      0.72     43802\n",
      "weighted avg       0.72      0.72      0.72     43802\n",
      "\n",
      "O modelo teve 71.81% de precisão e 79.17% de AUC nos dados de teste.\n"
     ]
    }
   ],
   "source": [
    "previsoes_cart_test = modelo_cart.predict(df_test_X)\n",
    "print(\"Confusion Matrix nos Dados de Teste\")\n",
    "print(confusion_matrix(previsoes_cart_test, df_test_Y))\n",
    "print(classification_report(df_test_Y, previsoes_cart_test))\n",
    "acc_cart_test = accuracy_score(df_test_Y, previsoes_cart_test)\n",
    "auc_cart_test = roc_auc_score(df_test_Y, modelo_cart.predict_proba(df_test_X)[:,1])\n",
    "print('O modelo teve {:2.2%} de precisão e {:2.2%} de AUC nos dados de teste.'.format(acc_cart_test, auc_cart_test))"
   ]
  },
  {
   "cell_type": "markdown",
   "metadata": {},
   "source": [
    "### 5.4 Random Forest"
   ]
  },
  {
   "cell_type": "code",
   "execution_count": 30,
   "metadata": {},
   "outputs": [
    {
     "data": {
      "text/plain": [
       "RandomForestClassifier(max_depth=4, random_state=1234)"
      ]
     },
     "execution_count": 30,
     "metadata": {},
     "output_type": "execute_result"
    }
   ],
   "source": [
    "# RandomForest\n",
    "modelo_rf = RandomForestClassifier(max_depth=4, random_state = seed)\n",
    "modelo_rf.fit(df_train_X, df_train_Y)"
   ]
  },
  {
   "cell_type": "markdown",
   "metadata": {},
   "source": [
    "#### 5.4.1 Resultados Random Forest"
   ]
  },
  {
   "cell_type": "code",
   "execution_count": 31,
   "metadata": {},
   "outputs": [
    {
     "name": "stdout",
     "output_type": "stream",
     "text": [
      "Confusion Matrix nos Dados de Treino\n",
      "[[42947 17859]\n",
      " [ 8164 33252]]\n",
      "              precision    recall  f1-score   support\n",
      "\n",
      "         0.0       0.71      0.84      0.77     51111\n",
      "         1.0       0.80      0.65      0.72     51111\n",
      "\n",
      "    accuracy                           0.75    102222\n",
      "   macro avg       0.75      0.75      0.74    102222\n",
      "weighted avg       0.75      0.75      0.74    102222\n",
      "\n",
      "O modelo teve 74.54% de precisão e 83.43% de AUC nos dados de treino.\n"
     ]
    }
   ],
   "source": [
    "previsoes_rf_train = modelo_rf.predict(df_train_X)\n",
    "print(\"Confusion Matrix nos Dados de Treino\")\n",
    "print(confusion_matrix(previsoes_rf_train, df_train_Y))\n",
    "print(classification_report(df_train_Y, previsoes_rf_train))\n",
    "acc_rf_train = accuracy_score(df_train_Y, previsoes_rf_train)\n",
    "auc_rf_train = roc_auc_score(df_train_Y, modelo_rf.predict_proba(df_train_X)[:,1])\n",
    "print('O modelo teve {:2.2%} de precisão e {:2.2%} de AUC nos dados de treino.'.format(acc_rf_train, auc_rf_train))"
   ]
  },
  {
   "cell_type": "code",
   "execution_count": 32,
   "metadata": {},
   "outputs": [
    {
     "name": "stdout",
     "output_type": "stream",
     "text": [
      "Confusion Matrix nos Dados de Teste\n",
      "[[18382  8389]\n",
      " [ 3519 13512]]\n",
      "              precision    recall  f1-score   support\n",
      "\n",
      "         0.0       0.69      0.84      0.76     21901\n",
      "         1.0       0.79      0.62      0.69     21901\n",
      "\n",
      "    accuracy                           0.73     43802\n",
      "   macro avg       0.74      0.73      0.72     43802\n",
      "weighted avg       0.74      0.73      0.72     43802\n",
      "\n",
      "O modelo teve 72.81% de precisão e 81.63% de AUC nos dados de teste.\n"
     ]
    }
   ],
   "source": [
    "previsoes_rf_test = modelo_rf.predict(df_test_X)\n",
    "print(\"Confusion Matrix nos Dados de Teste\")\n",
    "print(confusion_matrix(previsoes_rf_test, df_test_Y))\n",
    "print(classification_report(df_test_Y, previsoes_rf_test))\n",
    "acc_rf_test = accuracy_score(df_test_Y, previsoes_rf_test)\n",
    "auc_rf_test = roc_auc_score(df_test_Y, modelo_rf.predict_proba(df_test_X)[:,1])\n",
    "print('O modelo teve {:2.2%} de precisão e {:2.2%} de AUC nos dados de teste.'.format(acc_rf_test, auc_rf_test))"
   ]
  },
  {
   "cell_type": "markdown",
   "metadata": {},
   "source": [
    "### 5.5 XGBoost"
   ]
  },
  {
   "cell_type": "code",
   "execution_count": 33,
   "metadata": {},
   "outputs": [
    {
     "data": {
      "text/plain": [
       "XGBClassifier(base_score=0.5, booster='gbtree', colsample_bylevel=1,\n",
       "              colsample_bynode=1, colsample_bytree=1, gamma=0, gpu_id=-1,\n",
       "              importance_type='gain', interaction_constraints='',\n",
       "              learning_rate=0.300000012, max_delta_step=0, max_depth=6,\n",
       "              min_child_weight=1, missing=nan, monotone_constraints='()',\n",
       "              n_estimators=100, n_jobs=12, num_parallel_tree=1,\n",
       "              random_state=1234, reg_alpha=0, reg_lambda=1, scale_pos_weight=1,\n",
       "              subsample=1, tree_method='exact', validate_parameters=1,\n",
       "              verbosity=0)"
      ]
     },
     "execution_count": 33,
     "metadata": {},
     "output_type": "execute_result"
    }
   ],
   "source": [
    "modelo_xgb = XGBClassifier(verbosity = 0, random_state = seed)\n",
    "modelo_xgb.fit(df_train_X, df_train_Y)"
   ]
  },
  {
   "cell_type": "markdown",
   "metadata": {},
   "source": [
    "#### 5.5.1 Resultados XGB"
   ]
  },
  {
   "cell_type": "code",
   "execution_count": 34,
   "metadata": {},
   "outputs": [
    {
     "name": "stdout",
     "output_type": "stream",
     "text": [
      "Confusion Matrix nos Dados de Treino\n",
      "[[45784  1424]\n",
      " [ 5327 49687]]\n",
      "              precision    recall  f1-score   support\n",
      "\n",
      "         0.0       0.97      0.90      0.93     51111\n",
      "         1.0       0.90      0.97      0.94     51111\n",
      "\n",
      "    accuracy                           0.93    102222\n",
      "   macro avg       0.94      0.93      0.93    102222\n",
      "weighted avg       0.94      0.93      0.93    102222\n",
      "\n",
      "O modelo teve 93.40% de precisão e 97.87% de AUC nos dados de treino.\n"
     ]
    }
   ],
   "source": [
    "previsoes_xgb_train = modelo_xgb.predict(df_train_X)\n",
    "print(\"Confusion Matrix nos Dados de Treino\")\n",
    "print(confusion_matrix(previsoes_xgb_train, df_train_Y))\n",
    "print(classification_report(df_train_Y, previsoes_xgb_train))\n",
    "acc_xgb_train = accuracy_score(df_train_Y, previsoes_xgb_train)\n",
    "auc_xgb_train = roc_auc_score(df_train_Y, modelo_xgb.predict_proba(df_train_X)[:,1])\n",
    "print('O modelo teve {:2.2%} de precisão e {:2.2%} de AUC nos dados de treino.'.format(acc_xgb_train, auc_xgb_train))"
   ]
  },
  {
   "cell_type": "code",
   "execution_count": 35,
   "metadata": {
    "scrolled": true
   },
   "outputs": [
    {
     "name": "stdout",
     "output_type": "stream",
     "text": [
      "Confusion Matrix nos Dados de Teste\n",
      "[[18934  9223]\n",
      " [ 2967 12678]]\n",
      "              precision    recall  f1-score   support\n",
      "\n",
      "         0.0       0.67      0.86      0.76     21901\n",
      "         1.0       0.81      0.58      0.68     21901\n",
      "\n",
      "    accuracy                           0.72     43802\n",
      "   macro avg       0.74      0.72      0.72     43802\n",
      "weighted avg       0.74      0.72      0.72     43802\n",
      "\n",
      "O modelo teve 72.17% de precisão e 81.82% de AUC nos dados de teste.\n"
     ]
    }
   ],
   "source": [
    "previsoes_xgb_test = modelo_xgb.predict(df_test_X)\n",
    "print(\"Confusion Matrix nos Dados de Teste\")\n",
    "print(confusion_matrix(previsoes_xgb_test, df_test_Y))\n",
    "print(classification_report(df_test_Y, previsoes_xgb_test))\n",
    "acc_xgb_test = accuracy_score(df_test_Y, previsoes_xgb_test)\n",
    "auc_xgb_test = roc_auc_score(df_test_Y, modelo_xgb.predict_proba(df_test_X)[:,1])\n",
    "print('O modelo teve {:2.2%} de precisão e {:2.2%} de AUC nos dados de teste.'.format(acc_xgb_test, auc_xgb_test))"
   ]
  },
  {
   "cell_type": "markdown",
   "metadata": {},
   "source": [
    "## 6 Automatizando com Pipeline"
   ]
  },
  {
   "cell_type": "code",
   "execution_count": 36,
   "metadata": {
    "scrolled": true
   },
   "outputs": [
    {
     "name": "stdout",
     "output_type": "stream",
     "text": [
      "O modelo Logistic Regression teve 71.72% de precisão e 79.19% de AUC nos dados de teste.\n",
      "O modelo Naive Bayes teve 53.87% de precisão e 54.18% de AUC nos dados de teste.\n",
      "O modelo CART teve 71.81% de precisão e 79.17% de AUC nos dados de teste.\n",
      "O modelo Random Forest teve 72.81% de precisão e 81.63% de AUC nos dados de teste.\n",
      "O modelo XGBoost teve 72.17% de precisão e 81.82% de AUC nos dados de teste.\n"
     ]
    }
   ],
   "source": [
    "pipe_list = [\n",
    "    [('pca',PCA(0.95)), ('Logistic Regression', LogisticRegression(random_state = seed))],\n",
    "    [('pca',PCA(0.95)), ('Naive Bayes', GaussianNB())],\n",
    "    [('pca',PCA(0.95)), ('CART', DecisionTreeClassifier(max_depth=4,random_state = seed))],\n",
    "    [('pca',PCA(0.95)), ('Random Forest', RandomForestClassifier(max_depth=4,random_state = seed))],\n",
    "    [('pca',PCA(0.95)), ('XGBoost', XGBClassifier(verbosity = 0,random_state = seed))]\n",
    "]\n",
    "\n",
    "for pipes in pipe_list:\n",
    "    pipe = Pipeline([pipes[0], pipes[1]])\n",
    "    pipe.fit(X_treino_balanc, Y_treino_balanc)\n",
    "    print('O modelo {} teve {:2.2%} de precisão e {:2.2%} de AUC nos dados de teste.'.format(\n",
    "        pipes[1][0],\n",
    "        accuracy_score(Y_teste_balanc, pipe.predict(X_teste_balanc)),\n",
    "        roc_auc_score(Y_teste_balanc, pipe.predict_proba(X_teste_balanc)[:,1]))\n",
    "         )"
   ]
  },
  {
   "cell_type": "markdown",
   "metadata": {},
   "source": [
    "## 7 Comparação entre modelos"
   ]
  },
  {
   "cell_type": "code",
   "execution_count": 56,
   "metadata": {},
   "outputs": [
    {
     "data": {
      "image/png": "[encoded data removed]",
      "text/plain": [
       "<Figure size 576x432 with 1 Axes>"
      ]
     },
     "metadata": {
      "needs_background": "light"
     },
     "output_type": "display_data"
    }
   ],
   "source": [
    "model_list = [\n",
    "    (modelo_lr, 'Logistic Regression'),\n",
    "    (modelo_nb, 'Naive Bayes'),\n",
    "    (modelo_cart, 'CART'),\n",
    "    (modelo_rf, 'RandomForest'),\n",
    "    (modelo_xgb, 'XGBoost')\n",
    "]\n",
    "\n",
    "fig, ax = plt.subplots(1, 1, figsize=(8, 6))\n",
    "for model, name in model_list:\n",
    "    plot_roc_curve(model, df_test_X, df_test_Y, ax=ax, name = name)\n",
    "ax.set_title('Receiver Operating Characteristic (ROC) curves')\n",
    "\n",
    "ax.plot([0, 1], [0, 1], linestyle='--', lw=2, label=None, alpha=.8)\n",
    "ax.grid(linestyle='--')\n",
    "plt.show()"
   ]
  },
  {
   "cell_type": "markdown",
   "metadata": {},
   "source": [
    "## 8 Tuning do XGBoost"
   ]
  },
  {
   "cell_type": "markdown",
   "metadata": {},
   "source": [
    "Como obteve a melhor AUC, métrica utilizada na avaliação da competição, será otimizado um modelo XGBoost com a métrica roc_auc usando CV de 5-fold."
   ]
  },
  {
   "cell_type": "code",
   "execution_count": 38,
   "metadata": {},
   "outputs": [],
   "source": [
    "pipe_xgb = Pipeline([\n",
    "    ('pca', PCA(0.95)),\n",
    "    ('xgb', XGBClassifier(verbosity = 0))\n",
    "])"
   ]
  },
  {
   "cell_type": "markdown",
   "metadata": {},
   "source": [
    "### 8.1 Parâmetros a serem testados"
   ]
  },
  {
   "cell_type": "code",
   "execution_count": 39,
   "metadata": {},
   "outputs": [],
   "source": [
    "parametros_teste = {\n",
    "    'xgb__gamma'            : [0.0, 0.1, 0.2 , 0.3, 0.4],\n",
    "    'xgb__learning_rate'    : [0.05, 0.10, 0.15, 0.20, 0.25],\n",
    "    'xgb__min_child_weight' : [1, 3, 5],\n",
    "    'xgb__max_depth'        : [3, 4, 5, 6, 8, 10],\n",
    "    'xgb__colsample_bytree' : [0.3, 0.4, 0.5 , 0.7]\n",
    "}"
   ]
  },
  {
   "cell_type": "markdown",
   "metadata": {},
   "source": [
    "### 8.2 Usando o RandomizedSearchCV para testar outras combinações dos parâmetros"
   ]
  },
  {
   "cell_type": "code",
   "execution_count": 40,
   "metadata": {},
   "outputs": [],
   "source": [
    "final_model_CV = RandomizedSearchCV(estimator=pipe_xgb, param_distributions=parametros_teste, cv=5, n_jobs=-1,\n",
    "                                      scoring='roc_auc', n_iter=10)"
   ]
  },
  {
   "cell_type": "code",
   "execution_count": 41,
   "metadata": {},
   "outputs": [
    {
     "data": {
      "text/plain": [
       "RandomizedSearchCV(cv=5,\n",
       "                   estimator=Pipeline(steps=[('pca', PCA(n_components=0.95)),\n",
       "                                             ('xgb',\n",
       "                                              XGBClassifier(base_score=None,\n",
       "                                                            booster=None,\n",
       "                                                            colsample_bylevel=None,\n",
       "                                                            colsample_bynode=None,\n",
       "                                                            colsample_bytree=None,\n",
       "                                                            gamma=None,\n",
       "                                                            gpu_id=None,\n",
       "                                                            importance_type='gain',\n",
       "                                                            interaction_constraints=None,\n",
       "                                                            learning_rate=None,\n",
       "                                                            max_delta_step=None,\n",
       "                                                            max_depth=None,\n",
       "                                                            min_child_weight=None,\n",
       "                                                            m...\n",
       "                                                            reg_alpha=None,\n",
       "                                                            reg_lambda=None,\n",
       "                                                            scale_pos_weight=None,\n",
       "                                                            subsample=None,\n",
       "                                                            tree_method=None,\n",
       "                                                            validate_parameters=None,\n",
       "                                                            verbosity=0))]),\n",
       "                   n_jobs=-1,\n",
       "                   param_distributions={'xgb__colsample_bytree': [0.3, 0.4, 0.5,\n",
       "                                                                  0.7],\n",
       "                                        'xgb__gamma': [0.0, 0.1, 0.2, 0.3, 0.4],\n",
       "                                        'xgb__learning_rate': [0.05, 0.1, 0.15,\n",
       "                                                               0.2, 0.25],\n",
       "                                        'xgb__max_depth': [3, 4, 5, 6, 8, 10],\n",
       "                                        'xgb__min_child_weight': [1, 3, 5]},\n",
       "                   scoring='roc_auc')"
      ]
     },
     "execution_count": 41,
     "metadata": {},
     "output_type": "execute_result"
    }
   ],
   "source": [
    "final_model_CV.fit(X_treino_balanc, Y_treino_balanc)"
   ]
  },
  {
   "cell_type": "markdown",
   "metadata": {},
   "source": [
    "### 8.3 Previsões Finais"
   ]
  },
  {
   "cell_type": "code",
   "execution_count": 42,
   "metadata": {},
   "outputs": [],
   "source": [
    "prevs_train_final = final_model_CV.predict(X_treino_balanc)\n",
    "prevs_test_final = final_model_CV.predict(X_teste_balanc)\n",
    "probs_train_final = final_model_CV.predict_proba(X_treino_balanc)[:,1]\n",
    "probs_test_final = final_model_CV.predict_proba(X_teste_balanc)[:,1]"
   ]
  },
  {
   "cell_type": "markdown",
   "metadata": {},
   "source": [
    "### 8.4 Métricas de Resultado"
   ]
  },
  {
   "cell_type": "code",
   "execution_count": 43,
   "metadata": {},
   "outputs": [],
   "source": [
    "pipe_acc_train = accuracy_score(Y_treino_balanc, prevs_train_final)\n",
    "pipe_acc_test = accuracy_score(Y_teste_balanc, prevs_test_final)\n",
    "pipe_auc_train = roc_auc_score(Y_treino_balanc, probs_train_final)\n",
    "pipe_auc_test = roc_auc_score(Y_teste_balanc, probs_test_final)"
   ]
  },
  {
   "cell_type": "markdown",
   "metadata": {},
   "source": [
    "### 8.5 Melhor modelo"
   ]
  },
  {
   "cell_type": "code",
   "execution_count": 44,
   "metadata": {},
   "outputs": [
    {
     "data": {
      "text/plain": [
       "Pipeline(steps=[('pca', PCA(n_components=0.95)),\n",
       "                ('xgb',\n",
       "                 XGBClassifier(base_score=0.5, booster='gbtree',\n",
       "                               colsample_bylevel=1, colsample_bynode=1,\n",
       "                               colsample_bytree=0.5, gamma=0.1, gpu_id=-1,\n",
       "                               importance_type='gain',\n",
       "                               interaction_constraints='', learning_rate=0.25,\n",
       "                               max_delta_step=0, max_depth=10,\n",
       "                               min_child_weight=1, missing=nan,\n",
       "                               monotone_constraints='()', n_estimators=100,\n",
       "                               n_jobs=12, num_parallel_tree=1, random_state=0,\n",
       "                               reg_alpha=0, reg_lambda=1, scale_pos_weight=1,\n",
       "                               subsample=1, tree_method='exact',\n",
       "                               validate_parameters=1, verbosity=0))])"
      ]
     },
     "execution_count": 44,
     "metadata": {},
     "output_type": "execute_result"
    }
   ],
   "source": [
    "final_model_CV.best_estimator_"
   ]
  },
  {
   "cell_type": "markdown",
   "metadata": {},
   "source": [
    "### 8.6 Importância das Features"
   ]
  },
  {
   "cell_type": "code",
   "execution_count": 45,
   "metadata": {},
   "outputs": [
    {
     "data": {
      "text/plain": [
       "<AxesSubplot:title={'center':'Feature importance'}, xlabel='F score', ylabel='Features'>"
      ]
     },
     "execution_count": 45,
     "metadata": {},
     "output_type": "execute_result"
    },
    {
     "data": {
      "image/png": "[encoded data removed]",
      "text/plain": [
       "<Figure size 576x432 with 1 Axes>"
      ]
     },
     "metadata": {
      "needs_background": "light"
     },
     "output_type": "display_data"
    }
   ],
   "source": [
    "fig, ax = plt.subplots(1, 1, figsize=(8, 6))\n",
    "plot_importance(final_model_CV.best_estimator_['xgb'], ax=ax, height=0.7, max_num_features=15)"
   ]
  },
  {
   "cell_type": "markdown",
   "metadata": {},
   "source": [
    "## 9 Resultados"
   ]
  },
  {
   "cell_type": "markdown",
   "metadata": {},
   "source": [
    "### 9.1 Métricas principais da análise (Accuracy e AUC)"
   ]
  },
  {
   "cell_type": "code",
   "execution_count": 46,
   "metadata": {},
   "outputs": [
    {
     "name": "stdout",
     "output_type": "stream",
     "text": [
      "O modelo XGBoost com tuning teve 98.88% de precisão e 99.96% de AUC nos dados de treino.\n",
      "O modelo XGBoost com tuning teve 67.02% de precisão e 82.03% de AUC nos dados de teste.\n"
     ]
    }
   ],
   "source": [
    "print('O modelo XGBoost com tuning teve {:2.2%} de precisão e {:2.2%} de AUC nos dados de treino.'.format(pipe_acc_train,\n",
    "                                                                                                         pipe_auc_train))\n",
    "print('O modelo XGBoost com tuning teve {:2.2%} de precisão e {:2.2%} de AUC nos dados de teste.'.format(pipe_acc_test,\n",
    "                                                                                                         pipe_auc_test))   "
   ]
  },
  {
   "cell_type": "markdown",
   "metadata": {},
   "source": [
    "### 9.2 Confusion Matrix"
   ]
  },
  {
   "cell_type": "code",
   "execution_count": 47,
   "metadata": {},
   "outputs": [
    {
     "name": "stdout",
     "output_type": "stream",
     "text": [
      "Treino\n",
      "[[50097   131]\n",
      " [ 1014 50980]]\n",
      "\n",
      "Teste\n",
      "[[20145 12688]\n",
      " [ 1756  9213]]\n"
     ]
    }
   ],
   "source": [
    "print(\"Treino\")\n",
    "print(confusion_matrix(prevs_train_final, Y_treino_balanc))\n",
    "print(\"\\nTeste\")\n",
    "print(confusion_matrix(prevs_test_final, Y_teste_balanc))"
   ]
  },
  {
   "cell_type": "markdown",
   "metadata": {},
   "source": [
    "### 9.3 Classification Report"
   ]
  },
  {
   "cell_type": "code",
   "execution_count": 48,
   "metadata": {},
   "outputs": [
    {
     "name": "stdout",
     "output_type": "stream",
     "text": [
      "Treino\n",
      "              precision    recall  f1-score   support\n",
      "\n",
      "         0.0       1.00      0.98      0.99     51111\n",
      "         1.0       0.98      1.00      0.99     51111\n",
      "\n",
      "    accuracy                           0.99    102222\n",
      "   macro avg       0.99      0.99      0.99    102222\n",
      "weighted avg       0.99      0.99      0.99    102222\n",
      "\n",
      "\n",
      "Teste\n",
      "              precision    recall  f1-score   support\n",
      "\n",
      "         0.0       0.61      0.92      0.74     21901\n",
      "         1.0       0.84      0.42      0.56     21901\n",
      "\n",
      "    accuracy                           0.67     43802\n",
      "   macro avg       0.73      0.67      0.65     43802\n",
      "weighted avg       0.73      0.67      0.65     43802\n",
      "\n"
     ]
    }
   ],
   "source": [
    "print(\"Treino\")\n",
    "print(classification_report(Y_treino_balanc, prevs_train_final))\n",
    "print(\"\\nTeste\")\n",
    "print(classification_report(Y_teste_balanc, prevs_test_final))"
   ]
  },
  {
   "cell_type": "markdown",
   "metadata": {},
   "source": [
    "### 9.4 ROC Curve"
   ]
  },
  {
   "cell_type": "code",
   "execution_count": 52,
   "metadata": {
    "scrolled": false
   },
   "outputs": [
    {
     "data": {
      "image/png": "[encoded data removed]",
      "text/plain": [
       "<Figure size 576x432 with 1 Axes>"
      ]
     },
     "metadata": {
      "needs_background": "light"
     },
     "output_type": "display_data"
    }
   ],
   "source": [
    "fig, ax = plt.subplots(1, 1, figsize=(8, 6))\n",
    "plot_roc_curve(final_model_CV, X_teste_balanc, Y_teste_balanc, ax=ax, name = 'XGBoost Tuning')\n",
    "ax.set_title('Receiver Operating Characteristic (ROC) curve')\n",
    "ax.plot([0, 1], [0, 1], linestyle='--', lw=2, label=None, alpha=.8)\n",
    "ax.grid(linestyle='--')\n",
    "plt.show()"
   ]
  }
 ],
 "metadata": {
  "kernelspec": {
   "display_name": "Python 3",
   "language": "python",
   "name": "python3"
  },
  "language_info": {
   "codemirror_mode": {
    "name": "ipython",
    "version": 3
   },
   "file_extension": ".py",
   "mimetype": "text/x-python",
   "name": "python",
   "nbconvert_exporter": "python",
   "pygments_lexer": "ipython3",
   "version": "3.8.5"
  }
 },
 "nbformat": 4,
 "nbformat_minor": 4
}
